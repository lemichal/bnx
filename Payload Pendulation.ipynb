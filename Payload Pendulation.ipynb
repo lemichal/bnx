{
 "cells": [
  {
   "cell_type": "code",
   "execution_count": 6,
   "metadata": {
    "collapsed": false
   },
   "outputs": [
   ],
   "source": [
    "from sympy import *\n",
    "from dynpy.solvers.linear import ODESystem\n",
    "\n",
    "from sympy.physics.mechanics import dynamicsymbols, init_vprinting\n",
    "\n",
    "init_vprinting()\n",
    "from sympy import S\n",
    "\n",
    "from dynpy.utilities.report import *\n",
    "from dynpy.utilities.adaptable import *\n",
    "\n",
    "from pylatex import Section, Document\n",
    "\n",
    "from dynpy.utilities.components.mech import en,pl\n",
    "from dynpy.models.mechanics.pendulum import KinematicallyExcitedIvertedPendulum\n",
    "from dynpy.utilities.components.mech.en import *\n",
    "from dynpy import dynamics\n",
    "from math import sqrt"
   ]
  },
  {
   "cell_type": "code",
   "execution_count": 7,
   "metadata": {
    "collapsed": false
   },
   "outputs": [
   ],
   "source": [
    "m=Symbol('m', positive=True)\n",
    "m_0=Symbol('m_0', positive=True)\n",
    "g=Symbol('g', positive=True)\n",
    "l=Symbol('l' , positive=True)\n",
    "l_0=Symbol('l_0', positive=True)\n",
    "t=Symbol('t')\n",
    "phi=Function('varphi')(t)\n",
    "x_0=Symbol('x_0', positive=True)\n",
    "x_e=Symbol('x_e', positive=True)\n",
    "omega=Symbol('\\Omega', positive=True)\n",
    "omega_1=Symbol('\\Omega', positive=True)\n"
   ]
  },
  {
   "cell_type": "code",
   "execution_count": 8,
   "metadata": {
    "collapsed": false
   },
   "outputs": [
    {
     "data": {
      "image/png": "[encoded data removed]",
      "text/latex": [
       "$\\displaystyle \\left\\{ l : 12 l_{0}, \\  m : 15 m_{0}, \\  x_{0} : \\frac{l_{0}}{100}, \\  x_{e} : x_{0} \\sin{\\left(\\Omega t \\right)}, \\  \\varphi : \\Omega t\\right\\}$"
      ],
      "text/plain": [
       "⎧                         l₀                                        ⎫\n",
       "⎨l: 12⋅l₀, m: 15⋅m₀, x₀: ───, xₑ: x₀⋅sin(\\Omega⋅t), varphi: \\Omega⋅t⎬\n",
       "⎩                        100                                        ⎭"
      ]
     },
     "execution_count": 8,
     "metadata": {
     },
     "output_type": "execute_result"
    }
   ],
   "source": [
    "data={m:15*m_0, phi:omega*t, l:12*l_0, x_e:x_0*sin(omega*t), x_0:l_0/100}\n",
    "display(data)"
   ]
  },
  {
   "cell_type": "code",
   "execution_count": 9,
   "metadata": {
    "collapsed": false
   },
   "outputs": [
    {
     "data": {
      "image/png": "[encoded data removed]",
      "text/latex": [
       "$\\displaystyle T = \\frac{l^{2} m \\sin^{2}{\\left(\\varphi \\right)} \\dot{\\varphi}^{2}}{2} + \\frac{m \\left(- l \\cos{\\left(\\varphi \\right)} \\dot{\\varphi} - \\dot{x}_{e}\\right)^{2}}{2}$"
      ],
      "text/plain": [
       "     2      2                 2                                   2\n",
       "    l ⋅m⋅sin (\\varphi)⋅\\vaṙphi    m⋅(-l⋅cos(\\varphi)⋅\\vaṙphi - xₑ̇) \n",
       "T = ─────────────────────────── + ─────────────────────────────────\n",
       "                 2                                2                "
      ]
     },
     "execution_count": 9,
     "metadata": {
     },
     "output_type": "execute_result"
    },
    {
     "data": {
      "image/png": "[encoded data removed]",
      "text/latex": [
       "$\\displaystyle T = 1080 l_{0}^{2} m_{0} \\sin^{2}{\\left(\\varphi \\right)} \\dot{\\varphi}^{2} + \\frac{15 m_{0} \\left(- 12 l_{0} \\cos{\\left(\\varphi \\right)} \\dot{\\varphi} - \\dot{x}_{e}\\right)^{2}}{2}$"
      ],
      "text/plain": [
       "                                                                              \n",
       "           2       2                 2   15⋅m₀⋅(-12⋅l₀⋅cos(\\varphi)⋅\\vaṙphi -\n",
       "T = 1080⋅l₀ ⋅m₀⋅sin (\\varphi)⋅\\vaṙphi  + ────────────────────────────────────\n",
       "                                                             2                \n",
       "\n",
       "   2\n",
       " xₑ̇) \n",
       "─────\n",
       "    "
      ]
     },
     "execution_count": 9,
     "metadata": {
     },
     "output_type": "execute_result"
    }
   ],
   "source": [
    "T=KinematicallyExcitedIvertedPendulum()._kinetic_energy\n",
    "display(Eq(Symbol('T'),T))\n",
    "display(Eq(Symbol('T'),T.subs(data)))"
   ]
  },
  {
   "cell_type": "code",
   "execution_count": 10,
   "metadata": {
    "collapsed": false
   },
   "outputs": [
    {
     "data": {
      "image/png": "[encoded data removed]",
      "text/latex": [
       "$\\displaystyle V = \\frac{l^{2} m \\sin^{2}{\\left(\\varphi \\right)} \\dot{\\varphi}^{2}}{2} + \\frac{m \\left(- l \\cos{\\left(\\varphi \\right)} \\dot{\\varphi} - \\dot{x}_{e}\\right)^{2}}{2}$"
      ],
      "text/plain": [
       "     2      2                 2                                   2\n",
       "    l ⋅m⋅sin (\\varphi)⋅\\vaṙphi    m⋅(-l⋅cos(\\varphi)⋅\\vaṙphi - xₑ̇) \n",
       "V = ─────────────────────────── + ─────────────────────────────────\n",
       "                 2                                2                "
      ]
     },
     "execution_count": 10,
     "metadata": {
     },
     "output_type": "execute_result"
    },
    {
     "data": {
      "image/png": "[encoded data removed]",
      "text/latex": [
       "$\\displaystyle V = 1080 l_{0}^{2} m_{0} \\sin^{2}{\\left(\\varphi \\right)} \\dot{\\varphi}^{2} + \\frac{15 m_{0} \\left(- 12 l_{0} \\cos{\\left(\\varphi \\right)} \\dot{\\varphi} - \\dot{x}_{e}\\right)^{2}}{2}$"
      ],
      "text/plain": [
       "                                                                              \n",
       "           2       2                 2   15⋅m₀⋅(-12⋅l₀⋅cos(\\varphi)⋅\\vaṙphi -\n",
       "V = 1080⋅l₀ ⋅m₀⋅sin (\\varphi)⋅\\vaṙphi  + ────────────────────────────────────\n",
       "                                                             2                \n",
       "\n",
       "   2\n",
       " xₑ̇) \n",
       "─────\n",
       "    "
      ]
     },
     "execution_count": 10,
     "metadata": {
     },
     "output_type": "execute_result"
    }
   ],
   "source": [
    "V=KinematicallyExcitedIvertedPendulum()._kinetic_energy\n",
    "display(Eq(Symbol('V'),V))\n",
    "display(Eq(Symbol('V'),V.subs(data)))"
   ]
  },
  {
   "cell_type": "code",
   "execution_count": 11,
   "metadata": {
    "collapsed": false
   },
   "outputs": [
    {
     "data": {
      "image/png": "[encoded data removed]",
      "text/latex": [
       "$\\displaystyle L = - 180 g l_{0} m_{0} \\cos{\\left(\\varphi \\right)} + 1080 l_{0}^{2} m_{0} \\sin^{2}{\\left(\\varphi \\right)} \\dot{\\varphi}^{2} + \\frac{15 m_{0} \\left(- 12 l_{0} \\cos{\\left(\\varphi \\right)} \\dot{\\varphi} - \\dot{x}_{e}\\right)^{2}}{2}$"
      ],
      "text/plain": [
       "                                                                              \n",
       "                                       2       2                 2   15⋅m₀⋅(-1\n",
       "L = -180⋅g⋅l₀⋅m₀⋅cos(\\varphi) + 1080⋅l₀ ⋅m₀⋅sin (\\varphi)⋅\\vaṙphi  + ────────\n",
       "                                                                              \n",
       "\n",
       "                               2\n",
       "2⋅l₀⋅cos(\\varphi)⋅\\vaṙphi - xₑ̇) \n",
       "─────────────────────────────────\n",
       "           2                    "
      ]
     },
     "execution_count": 11,
     "metadata": {
     },
     "output_type": "execute_result"
    }
   ],
   "source": [
    "L=KinematicallyExcitedIvertedPendulum().L\n",
    "display(Eq(Symbol('L'),L.subs(data)[0]))"
   ]
  },
  {
   "cell_type": "code",
   "execution_count": 12,
   "metadata": {
    "collapsed": false
   },
   "outputs": [
    {
     "data": {
      "text/markdown": [
       "Equations of motion of the system:"
      ],
      "text/plain": [
       "Equations of motion of the system:"
      ]
     },
     "execution_count": 12,
     "metadata": {
     },
     "output_type": "execute_result"
    },
    {
     "data": {
      "image/png": "[encoded data removed]",
      "text/latex": [
       "$\\displaystyle \\left[\\begin{matrix}0\\end{matrix}\\right] = \\left[\\begin{matrix}- 180.0 g l_{0} m_{0} \\sin{\\left(\\varphi \\right)} + 2160.0 l_{0}^{2} m_{0} \\sin^{2}{\\left(\\varphi \\right)} \\ddot{\\varphi} + 2160.0 l_{0}^{2} m_{0} \\cos^{2}{\\left(\\varphi \\right)} \\ddot{\\varphi} + 180.0 l_{0} m_{0} \\cos{\\left(\\varphi \\right)} \\ddot{x}_{e}\\end{matrix}\\right]$"
      ],
      "text/plain": [
       "      ⎡                                       2       2                       \n",
       "[0] = ⎣-180.0⋅g⋅l₀⋅m₀⋅sin(\\varphi) + 2160.0⋅l₀ ⋅m₀⋅sin (\\varphi)⋅\\var̈phi + 21\n",
       "\n",
       "      2       2                                               ⎤\n",
       "60.0⋅l₀ ⋅m₀⋅cos (\\varphi)⋅\\var̈phi + 180.0⋅l₀⋅m₀⋅cos(\\varphi)⋅xₑ̈⎦"
      ]
     },
     "execution_count": 12,
     "metadata": {
     },
     "output_type": "execute_result"
    }
   ],
   "source": [
    "eom=Eq(diff(diff(T,diff(phi)),t)-diff(T,phi)+diff(V,phi),0)\n",
    "eom_simplified=eom.expand().simplify().doit().expand()\n",
    "eom_simplified\n",
    "\n",
    "###\n",
    "eoms=KinematicallyExcitedIvertedPendulum()._eoms.subs(data)\n",
    "eoms_unsub=KinematicallyExcitedIvertedPendulum()._eoms\n",
    "display(ReportText('Equations of motion of the system:'))\n",
    "display(Eq(Matrix([0]), eoms.expand().n()))"
   ]
  },
  {
   "cell_type": "code",
   "execution_count": 13,
   "metadata": {
    "collapsed": false
   },
   "outputs": [
   ],
   "source": [
    "static={phi.diff():0, phi.diff(t,2):0, x_e.diff():0, x_e.diff(t,2):0}"
   ]
  },
  {
   "cell_type": "code",
   "execution_count": 14,
   "metadata": {
    "collapsed": false
   },
   "outputs": [
    {
     "data": {
      "image/png": "[encoded data removed]",
      "text/latex": [
       "$\\displaystyle \\text{True}$"
      ],
      "text/plain": [
       "True"
      ]
     },
     "execution_count": 14,
     "metadata": {
     },
     "output_type": "execute_result"
    }
   ],
   "source": [
    "static_eq=eom_simplified.subs(static)\n",
    "static_eq"
   ]
  },
  {
   "cell_type": "code",
   "execution_count": 15,
   "metadata": {
    "collapsed": false
   },
   "outputs": [
    {
     "data": {
      "image/png": "[encoded data removed]",
      "text/latex": [
       "$\\displaystyle \\left[ \\right]$"
      ],
      "text/plain": [
       "[]"
      ]
     },
     "execution_count": 15,
     "metadata": {
     },
     "output_type": "execute_result"
    }
   ],
   "source": [
    "crit_points=solve(static_eq, phi)\n",
    "display(crit_points)"
   ]
  },
  {
   "cell_type": "code",
   "execution_count": 16,
   "metadata": {
    "collapsed": false
   },
   "outputs": [
   ],
   "source": [
    "linearize_zero={sin(phi): phi, cos(phi):1}"
   ]
  },
  {
   "cell_type": "code",
   "execution_count": 17,
   "metadata": {
    "collapsed": false
   },
   "outputs": [
   ],
   "source": [
    "sub={x_e: x_0*sin(omega*t)}"
   ]
  },
  {
   "cell_type": "code",
   "execution_count": 18,
   "metadata": {
    "collapsed": false
   },
   "outputs": [
    {
     "data": {
      "image/png": "[encoded data removed]",
      "text/latex": [
       "$\\displaystyle \\text{True}$"
      ],
      "text/plain": [
       "True"
      ]
     },
     "execution_count": 18,
     "metadata": {
     },
     "output_type": "execute_result"
    },
    {
     "data": {
      "image/png": "[encoded data removed]",
      "text/latex": [
       "$\\displaystyle \\text{True}$"
      ],
      "text/plain": [
       "True"
      ]
     },
     "execution_count": 18,
     "metadata": {
     },
     "output_type": "execute_result"
    },
    {
     "ename": "ValueError",
     "evalue": "The function cannot be automatically detected for True.",
     "output_type": "error",
     "traceback": [
      "\u001b[0;31m---------------------------------------------------------------------------\u001b[0m",
      "\u001b[0;31mValueError\u001b[0m                                Traceback (most recent call last)",
      "\u001b[0;32m/tmp/ipykernel_4535/588066537.py\u001b[0m in \u001b[0;36m<cell line: 4>\u001b[0;34m()\u001b[0m\n\u001b[1;32m      2\u001b[0m \u001b[0meom_linearized_zero\u001b[0m\u001b[0;34m=\u001b[0m\u001b[0meom_simplified\u001b[0m\u001b[0;34m.\u001b[0m\u001b[0msubs\u001b[0m\u001b[0;34m(\u001b[0m\u001b[0mlinearize_zero\u001b[0m\u001b[0;34m)\u001b[0m\u001b[0;34m.\u001b[0m\u001b[0msubs\u001b[0m\u001b[0;34m(\u001b[0m\u001b[0msub\u001b[0m\u001b[0;34m)\u001b[0m\u001b[0;34m.\u001b[0m\u001b[0msubs\u001b[0m\u001b[0;34m(\u001b[0m\u001b[0momega\u001b[0m\u001b[0;34m,\u001b[0m \u001b[0;36m0\u001b[0m\u001b[0;34m)\u001b[0m\u001b[0;34m.\u001b[0m\u001b[0mdoit\u001b[0m\u001b[0;34m(\u001b[0m\u001b[0;34m)\u001b[0m\u001b[0;34m\u001b[0m\u001b[0;34m\u001b[0m\u001b[0m\n\u001b[1;32m      3\u001b[0m \u001b[0mdisplay\u001b[0m\u001b[0;34m(\u001b[0m\u001b[0meom_linearized_zero\u001b[0m\u001b[0;34m)\u001b[0m\u001b[0;34m\u001b[0m\u001b[0;34m\u001b[0m\u001b[0m\n\u001b[0;32m----> 4\u001b[0;31m \u001b[0mdsolve\u001b[0m\u001b[0;34m(\u001b[0m\u001b[0meom_linearized_zero\u001b[0m\u001b[0;34m)\u001b[0m\u001b[0;34m\u001b[0m\u001b[0;34m\u001b[0m\u001b[0m\n\u001b[0m",
      "\u001b[0;32m/usr/lib/python3/dist-packages/sympy/solvers/ode/ode.py\u001b[0m in \u001b[0;36mdsolve\u001b[0;34m(eq, func, hint, simplify, ics, xi, eta, x0, n, **kwargs)\u001b[0m\n\u001b[1;32m    602\u001b[0m \u001b[0;34m\u001b[0m\u001b[0m\n\u001b[1;32m    603\u001b[0m         \u001b[0;31m# See the docstring of _desolve for more details.\u001b[0m\u001b[0;34m\u001b[0m\u001b[0;34m\u001b[0m\u001b[0m\n\u001b[0;32m--> 604\u001b[0;31m         hints = _desolve(eq, func=func,\n\u001b[0m\u001b[1;32m    605\u001b[0m             \u001b[0mhint\u001b[0m\u001b[0;34m=\u001b[0m\u001b[0mhint\u001b[0m\u001b[0;34m,\u001b[0m \u001b[0msimplify\u001b[0m\u001b[0;34m=\u001b[0m\u001b[0;32mTrue\u001b[0m\u001b[0;34m,\u001b[0m \u001b[0mxi\u001b[0m\u001b[0;34m=\u001b[0m\u001b[0mxi\u001b[0m\u001b[0;34m,\u001b[0m \u001b[0meta\u001b[0m\u001b[0;34m=\u001b[0m\u001b[0meta\u001b[0m\u001b[0;34m,\u001b[0m \u001b[0mtype\u001b[0m\u001b[0;34m=\u001b[0m\u001b[0;34m'ode'\u001b[0m\u001b[0;34m,\u001b[0m \u001b[0mics\u001b[0m\u001b[0;34m=\u001b[0m\u001b[0mics\u001b[0m\u001b[0;34m,\u001b[0m\u001b[0;34m\u001b[0m\u001b[0;34m\u001b[0m\u001b[0m\n\u001b[1;32m    606\u001b[0m             x0=x0, n=n, **kwargs)\n",
      "\u001b[0;32m/usr/lib/python3/dist-packages/sympy/solvers/deutils.py\u001b[0m in \u001b[0;36m_desolve\u001b[0;34m(eq, func, hint, ics, simplify, prep, **kwargs)\u001b[0m\n\u001b[1;32m    178\u001b[0m     \u001b[0;31m# preprocess the equation and find func if not given\u001b[0m\u001b[0;34m\u001b[0m\u001b[0;34m\u001b[0m\u001b[0m\n\u001b[1;32m    179\u001b[0m     \u001b[0;32mif\u001b[0m \u001b[0mprep\u001b[0m \u001b[0;32mor\u001b[0m \u001b[0mfunc\u001b[0m \u001b[0;32mis\u001b[0m \u001b[0;32mNone\u001b[0m\u001b[0;34m:\u001b[0m\u001b[0;34m\u001b[0m\u001b[0;34m\u001b[0m\u001b[0m\n\u001b[0;32m--> 180\u001b[0;31m         \u001b[0meq\u001b[0m\u001b[0;34m,\u001b[0m \u001b[0mfunc\u001b[0m \u001b[0;34m=\u001b[0m \u001b[0m_preprocess\u001b[0m\u001b[0;34m(\u001b[0m\u001b[0meq\u001b[0m\u001b[0;34m,\u001b[0m \u001b[0mfunc\u001b[0m\u001b[0;34m)\u001b[0m\u001b[0;34m\u001b[0m\u001b[0;34m\u001b[0m\u001b[0m\n\u001b[0m\u001b[1;32m    181\u001b[0m         \u001b[0mprep\u001b[0m \u001b[0;34m=\u001b[0m \u001b[0;32mFalse\u001b[0m\u001b[0;34m\u001b[0m\u001b[0;34m\u001b[0m\u001b[0m\n\u001b[1;32m    182\u001b[0m \u001b[0;34m\u001b[0m\u001b[0m\n",
      "\u001b[0;32m/usr/lib/python3/dist-packages/sympy/solvers/deutils.py\u001b[0m in \u001b[0;36m_preprocess\u001b[0;34m(expr, func, hint)\u001b[0m\n\u001b[1;32m     80\u001b[0m         \u001b[0mfuncs\u001b[0m \u001b[0;34m=\u001b[0m \u001b[0mset\u001b[0m\u001b[0;34m(\u001b[0m\u001b[0;34m)\u001b[0m\u001b[0;34m.\u001b[0m\u001b[0munion\u001b[0m\u001b[0;34m(\u001b[0m\u001b[0;34m*\u001b[0m\u001b[0;34m[\u001b[0m\u001b[0md\u001b[0m\u001b[0;34m.\u001b[0m\u001b[0matoms\u001b[0m\u001b[0;34m(\u001b[0m\u001b[0mAppliedUndef\u001b[0m\u001b[0;34m)\u001b[0m \u001b[0;32mfor\u001b[0m \u001b[0md\u001b[0m \u001b[0;32min\u001b[0m \u001b[0mderivs\u001b[0m\u001b[0;34m]\u001b[0m\u001b[0;34m)\u001b[0m\u001b[0;34m\u001b[0m\u001b[0;34m\u001b[0m\u001b[0m\n\u001b[1;32m     81\u001b[0m         \u001b[0;32mif\u001b[0m \u001b[0mlen\u001b[0m\u001b[0;34m(\u001b[0m\u001b[0mfuncs\u001b[0m\u001b[0;34m)\u001b[0m \u001b[0;34m!=\u001b[0m \u001b[0;36m1\u001b[0m\u001b[0;34m:\u001b[0m\u001b[0;34m\u001b[0m\u001b[0;34m\u001b[0m\u001b[0m\n\u001b[0;32m---> 82\u001b[0;31m             raise ValueError('The function cannot be '\n\u001b[0m\u001b[1;32m     83\u001b[0m                 'automatically detected for %s.' % expr)\n\u001b[1;32m     84\u001b[0m         \u001b[0mfunc\u001b[0m \u001b[0;34m=\u001b[0m \u001b[0mfuncs\u001b[0m\u001b[0;34m.\u001b[0m\u001b[0mpop\u001b[0m\u001b[0;34m(\u001b[0m\u001b[0;34m)\u001b[0m\u001b[0;34m\u001b[0m\u001b[0;34m\u001b[0m\u001b[0m\n",
      "\u001b[0;31mValueError\u001b[0m: The function cannot be automatically detected for True."
     ]
    }
   ],
   "source": [
    "display(eom_simplified.subs(linearize_zero))\n",
    "eom_linearized_zero=eom_simplified.subs(linearize_zero).subs(sub).subs(omega, 0).doit()\n",
    "display(eom_linearized_zero)\n",
    "dsolve(eom_linearized_zero)"
   ]
  },
  {
   "cell_type": "code",
   "execution_count": 0,
   "metadata": {
    "collapsed": false
   },
   "outputs": [
   ],
   "source": [
    "omega_1 = sqrt((m*g*l)/(m*l**2))\n",
    "display(omega_1)\n"
   ]
  },
  {
   "cell_type": "code",
   "execution_count": 0,
   "metadata": {
    "collapsed": false
   },
   "outputs": [
   ],
   "source": [
   ]
  },
  {
   "cell_type": "code",
   "execution_count": 0,
   "metadata": {
    "collapsed": false
   },
   "outputs": [
   ],
   "source": [
   ]
  },
  {
   "cell_type": "code",
   "execution_count": 0,
   "metadata": {
    "collapsed": false
   },
   "outputs": [
   ],
   "source": [
   ]
  }
 ],
 "metadata": {
  "kernelspec": {
   "argv": [
    "/usr/bin/python3",
    "-m",
    "ipykernel",
    "--HistoryManager.enabled=False",
    "--matplotlib=inline",
    "-c",
    "%config InlineBackend.figure_formats = set(['retina'])\nimport matplotlib; matplotlib.rcParams['figure.figsize'] = (12, 7)",
    "-f",
    "{connection_file}"
   ],
   "display_name": "Python 3 (system-wide)",
   "env": {
   },
   "language": "python",
   "metadata": {
    "cocalc": {
     "description": "Python 3 programming language",
     "priority": 100,
     "url": "https://www.python.org/"
    }
   },
   "name": "python3",
   "resource_dir": "/ext/jupyter/kernels/python3"
  },
  "language_info": {
   "codemirror_mode": {
    "name": "ipython",
    "version": 3
   },
   "file_extension": ".py",
   "mimetype": "text/x-python",
   "name": "python",
   "nbconvert_exporter": "python",
   "pygments_lexer": "ipython3",
   "version": "3.10.6"
  }
 },
 "nbformat": 4,
 "nbformat_minor": 4
}